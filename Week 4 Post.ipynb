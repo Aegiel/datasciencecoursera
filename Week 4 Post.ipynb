{
 "cells": [
  {
   "cell_type": "markdown",
   "id": "d29754e0",
   "metadata": {},
   "source": [
    "### Hello everyone! I know this is not a Tumblr post, but this seemed a bit more adequate for me!"
   ]
  },
  {
   "cell_type": "markdown",
   "id": "85705dc7",
   "metadata": {},
   "source": [
    "# Code\n",
    "Below you can find the code that I used as well as its output:"
   ]
  },
  {
   "cell_type": "code",
   "execution_count": null,
   "id": "0ebeb65f",
   "metadata": {},
   "outputs": [],
   "source": [
    "import numpy as np\n",
    "import pandas as pd\n",
    "import statsmodels.formula.api as smf\n",
    "import statsmodels.stats.multicomp as multi\n",
    "\n",
    "data=pd.read_csv(\"nesarc.csv\",low_memory=False)\n",
    "\n",
    "#Data for Total Personal Income in the last 12 months (Ages 20-25) (Income between 0=25000$)\n",
    "A1 = data[(data['AGE'] >= 20) & (data['AGE'] <= 25) & (data['S1Q10B'] >= 0) & (data['S1Q10B'] <= 7)]\n",
    "B1 = A1.copy()\n",
    "\n",
    "recode= {0:0,1:4999,2:7999,3:9999,4:12999,5:14999,6:19999,7:24999}\n",
    "B1['INCOMERANGE']=B1['S1Q10B'].map(recode)\n",
    "d1=B1['INCOMERANGE'].value_counts(sort=False)\n",
    "B1['REGION']=B1['REGION'].apply(lambda x: f\"Region_{x}\")\n",
    "\n",
    "#CONVERT TO NUMERIC\n",
    "B1['INCOMERANGE']=B1['INCOMERANGE'].apply(pd.to_numeric, errors='coerce')"
   ]
  },
  {
   "cell_type": "markdown",
   "id": "ba483f28",
   "metadata": {},
   "source": [
    "<a id=\"cell1\"></a>\n",
    "## No Moderator"
   ]
  },
  {
   "cell_type": "code",
   "execution_count": 15,
   "id": "3d27f53b",
   "metadata": {},
   "outputs": [
    {
     "name": "stdout",
     "output_type": "stream",
     "text": [
      "                            OLS Regression Results                            \n",
      "==============================================================================\n",
      "Dep. Variable:            INCOMERANGE   R-squared:                       0.000\n",
      "Model:                            OLS   Adj. R-squared:                 -0.000\n",
      "Method:                 Least Squares   F-statistic:                    0.3300\n",
      "Date:                Mon, 13 Nov 2023   Prob (F-statistic):              0.566\n",
      "Time:                        17:28:07   Log-Likelihood:                -36390.\n",
      "No. Observations:                3510   AIC:                         7.278e+04\n",
      "Df Residuals:                    3508   BIC:                         7.280e+04\n",
      "Df Model:                           1                                         \n",
      "Covariance Type:            nonrobust                                         \n",
      "==========================================================================================\n",
      "                             coef    std err          t      P>|t|      [0.025      0.975]\n",
      "------------------------------------------------------------------------------------------\n",
      "Intercept               1.196e+04    138.331     86.473      0.000    1.17e+04    1.22e+04\n",
      "C(DMAJORDEPSNI12)[T.1]  -231.6581    403.272     -0.574      0.566   -1022.330     559.014\n",
      "==============================================================================\n",
      "Omnibus:                      905.071   Durbin-Watson:                   1.954\n",
      "Prob(Omnibus):                  0.000   Jarque-Bera (JB):              189.622\n",
      "Skew:                           0.256   Prob(JB):                     6.67e-42\n",
      "Kurtosis:                       1.982   Cond. No.                         3.15\n",
      "==============================================================================\n",
      "\n",
      "Notes:\n",
      "[1] Standard Errors assume that the covariance matrix of the errors is correctly specified.\n",
      "Means for INCOMERANGE by Major Depression status\n",
      "                 INCOMERANGE\n",
      "DMAJORDEPSNI12              \n",
      "0               11961.972877\n",
      "1               11730.314770\n",
      "Standard Deviations for INCOMERANGE by Major Depression status\n",
      "                INCOMERANGE\n",
      "DMAJORDEPSNI12             \n",
      "0               7712.051928\n",
      "1               7593.493772\n"
     ]
    }
   ],
   "source": [
    "# using ols function for calculating the F-statistic and associated p value\n",
    "model1 = smf.ols(formula='INCOMERANGE ~ C(DMAJORDEPSNI12)', data=B1)\n",
    "results1 = model1.fit()\n",
    "print (results1.summary())\n",
    "\n",
    "B2 = B1[['INCOMERANGE', 'DMAJORDEPSNI12']].dropna()\n",
    "\n",
    "print ('Means for INCOMERANGE by Major Depression status')\n",
    "m1= B2.groupby('DMAJORDEPSNI12').mean()\n",
    "print (m1)\n",
    "\n",
    "print ('Standard Deviations for INCOMERANGE by Major Depression status')\n",
    "sd1 = B2.groupby('DMAJORDEPSNI12').std()\n",
    "print (sd1)"
   ]
  },
  {
   "cell_type": "markdown",
   "id": "5d71e89e",
   "metadata": {},
   "source": [
    "<a id=\"cell2\"></a>\n",
    "## Moderator = Region 1"
   ]
  },
  {
   "cell_type": "code",
   "execution_count": 25,
   "id": "ddb6128f",
   "metadata": {},
   "outputs": [
    {
     "name": "stdout",
     "output_type": "stream",
     "text": [
      "association between diet and weight loss for those using Cardio exercise\n",
      "                            OLS Regression Results                            \n",
      "==============================================================================\n",
      "Dep. Variable:            INCOMERANGE   R-squared:                       0.004\n",
      "Model:                            OLS   Adj. R-squared:                  0.002\n",
      "Method:                 Least Squares   F-statistic:                     2.223\n",
      "Date:                Mon, 13 Nov 2023   Prob (F-statistic):              0.137\n",
      "Time:                        17:52:30   Log-Likelihood:                -5819.7\n",
      "No. Observations:                 562   AIC:                         1.164e+04\n",
      "Df Residuals:                     560   BIC:                         1.165e+04\n",
      "Df Model:                           1                                         \n",
      "Covariance Type:            nonrobust                                         \n",
      "==========================================================================================\n",
      "                             coef    std err          t      P>|t|      [0.025      0.975]\n",
      "------------------------------------------------------------------------------------------\n",
      "Intercept               1.193e+04    342.002     34.873      0.000    1.13e+04    1.26e+04\n",
      "C(DMAJORDEPSNI12)[T.1] -1488.0585    997.986     -1.491      0.137   -3448.312     472.195\n",
      "==============================================================================\n",
      "Omnibus:                       86.715   Durbin-Watson:                   1.896\n",
      "Prob(Omnibus):                  0.000   Jarque-Bera (JB):               28.332\n",
      "Skew:                           0.299   Prob(JB):                     7.04e-07\n",
      "Kurtosis:                       2.076   Cond. No.                         3.15\n",
      "==============================================================================\n",
      "\n",
      "Notes:\n",
      "[1] Standard Errors assume that the covariance matrix of the errors is correctly specified.\n",
      "Means for INCOMERANGE by Major Depression status for Region 1\n",
      "DMAJORDEPSNI12\n",
      "0    11926.528226\n",
      "1    10438.469697\n",
      "Name: INCOMERANGE, dtype: float64\n",
      "Standart Deviation for INCOMERANGE by Major Depression status for Region 1\n",
      "DMAJORDEPSNI12\n",
      "0    7630.891363\n",
      "1    7508.101457\n",
      "Name: INCOMERANGE, dtype: float64\n"
     ]
    }
   ],
   "source": [
    "sub2=B1[(B1['REGION']=='Region_1')]\n",
    "\n",
    "print ('association between diet and weight loss for those using Cardio exercise')\n",
    "model2 = smf.ols(formula='INCOMERANGE ~ C(DMAJORDEPSNI12)', data=sub2).fit()\n",
    "print (model2.summary())\n",
    "\n",
    "print (\"Means for INCOMERANGE by Major Depression status for Region 1\")\n",
    "m2= sub2.groupby('DMAJORDEPSNI12').mean()[\"INCOMERANGE\"]\n",
    "print (m2)\n",
    "\n",
    "print (\"Standart Deviation for INCOMERANGE by Major Depression status for Region 1\")\n",
    "sd2= sub2.groupby('DMAJORDEPSNI12').std()[\"INCOMERANGE\"]\n",
    "print (sd2)"
   ]
  },
  {
   "cell_type": "markdown",
   "id": "925984e2",
   "metadata": {},
   "source": [
    "<a id=\"cell3\"></a>\n",
    "## Moderator = Region 3"
   ]
  },
  {
   "cell_type": "code",
   "execution_count": 26,
   "id": "5b564f97",
   "metadata": {},
   "outputs": [
    {
     "name": "stdout",
     "output_type": "stream",
     "text": [
      "association between diet and weight loss for those using Weights exercise\n",
      "                            OLS Regression Results                            \n",
      "==============================================================================\n",
      "Dep. Variable:            INCOMERANGE   R-squared:                       0.000\n",
      "Model:                            OLS   Adj. R-squared:                 -0.001\n",
      "Method:                 Least Squares   F-statistic:                   0.06003\n",
      "Date:                Mon, 13 Nov 2023   Prob (F-statistic):              0.806\n",
      "Time:                        17:52:37   Log-Likelihood:                -13541.\n",
      "No. Observations:                1305   AIC:                         2.709e+04\n",
      "Df Residuals:                    1303   BIC:                         2.710e+04\n",
      "Df Model:                           1                                         \n",
      "Covariance Type:            nonrobust                                         \n",
      "==========================================================================================\n",
      "                             coef    std err          t      P>|t|      [0.025      0.975]\n",
      "------------------------------------------------------------------------------------------\n",
      "Intercept               1.149e+04    227.834     50.426      0.000     1.1e+04    1.19e+04\n",
      "C(DMAJORDEPSNI12)[T.1]   169.8275    693.129      0.245      0.806   -1189.944    1529.599\n",
      "==============================================================================\n",
      "Omnibus:                      325.004   Durbin-Watson:                   1.981\n",
      "Prob(Omnibus):                  0.000   Jarque-Bera (JB):               74.348\n",
      "Skew:                           0.290   Prob(JB):                     7.17e-17\n",
      "Kurtosis:                       1.985   Cond. No.                         3.26\n",
      "==============================================================================\n",
      "\n",
      "Notes:\n",
      "[1] Standard Errors assume that the covariance matrix of the errors is correctly specified.\n",
      "Means for INCOMERANGE by Major Depression status for Region 3\n",
      "DMAJORDEPSNI12\n",
      "0    11488.817869\n",
      "1    11658.645390\n",
      "Name: INCOMERANGE, dtype: float64\n",
      "Standart Deviation for INCOMERANGE by Major Depression status for Region 3\n",
      "DMAJORDEPSNI12\n",
      "0    7830.726100\n",
      "1    7276.884337\n",
      "Name: INCOMERANGE, dtype: float64\n"
     ]
    }
   ],
   "source": [
    "sub3=B1[(B1['REGION']=='Region_3')]\n",
    "\n",
    "print ('association between diet and weight loss for those using Weights exercise')\n",
    "model3 = smf.ols(formula='INCOMERANGE ~ C(DMAJORDEPSNI12)', data=sub3).fit()\n",
    "print (model3.summary())\n",
    "\n",
    "print (\"Means for INCOMERANGE by Major Depression status for Region 3\")\n",
    "m3 = sub3.groupby('DMAJORDEPSNI12').mean()[\"INCOMERANGE\"]\n",
    "print (m3)\n",
    "\n",
    "print (\"Standart Deviation for INCOMERANGE by Major Depression status for Region 3\")\n",
    "sd3= sub3.groupby('DMAJORDEPSNI12').std()[\"INCOMERANGE\"]\n",
    "print (sd3)"
   ]
  },
  {
   "cell_type": "markdown",
   "id": "585a36d0",
   "metadata": {},
   "source": [
    "# Examining the results"
   ]
  },
  {
   "cell_type": "markdown",
   "id": "ffcf7395",
   "metadata": {},
   "source": [
    "In [Part 1](#cell1), we decided to examine the association between Low Income Young Adults (which is our Quantitive Response) and Major Depression in the Last 12 Months between Young Adults (which is our Categorical Explanatory). To do this we performed an Analysis of Variance (ANOVA). The test revealed that, among the low income young adults, those who said that were experiencing a major depression reported lesser income (Mean=11730.31, s.d. ±7593.49) compared to those people who don’t experience major depression (Mean=11961.97, s.d. ±7712.05).\n",
    "\n",
    "However, for this test the F-statistic is **0.33** and the P-value is **0.566** which is much higher than our alpha (0.05). This means that **we cannot reject** the null Hypothesis (Ho), meaning that there is **no association** between low income young adults and major depression.\n",
    "\n",
    "**Please remember that since our variable only has 2 levels (True or False), we do not need to perform Post Hoc tests.**"
   ]
  },
  {
   "cell_type": "markdown",
   "id": "32fd91f6",
   "metadata": {},
   "source": [
    "In [Part 2](#cell2) and [Part 3](#cell3), we decided to make use of a *Moderator* to study if these results would be different when taking into account subgroups based on the **Region** the Young Adults lived in.\n",
    "\n",
    "In Region 1, there was a slight difference between the Income of the Young Adults that experienced major depression (Mean=10438.47, s.d. ±7508.10) and those who did not (Mean=11926.53, s.d. ±7630.89).\n",
    "However, in Region 3, there was almost no difference between the Income of the Young Adults that experienced major depression (Mean=11658.65, s.d. ±7276.88) and those who did not (Mean=11488.82, s.d. ±7830.73).\n",
    "\n",
    "But, in conclusion, the F-statistics were **2.22** for Region 1 and **0.060** for Region 3, and the P-Values, even though for Region 1 (**0.14**) was much smaller than for Region 3 (**0.81**), both were still higher than our alpha (0.05). This means that **we cannot reject** the Null Hypothesis (Ho), meaning that there is **no association** between low income young adults and major depression, **even using the Region as a Moderator**."
   ]
  },
  {
   "cell_type": "code",
   "execution_count": null,
   "id": "ab528d4e",
   "metadata": {},
   "outputs": [],
   "source": []
  }
 ],
 "metadata": {
  "kernelspec": {
   "display_name": "Python 3 (ipykernel)",
   "language": "python",
   "name": "python3"
  },
  "language_info": {
   "codemirror_mode": {
    "name": "ipython",
    "version": 3
   },
   "file_extension": ".py",
   "mimetype": "text/x-python",
   "name": "python",
   "nbconvert_exporter": "python",
   "pygments_lexer": "ipython3",
   "version": "3.8.12"
  }
 },
 "nbformat": 4,
 "nbformat_minor": 5
}
