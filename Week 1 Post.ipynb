{
 "cells": [
  {
   "cell_type": "markdown",
   "id": "af725579",
   "metadata": {},
   "source": [
    "### Hello everyone! I know this is not a Tumblr post, but this seemed a bit more adequate for me!"
   ]
  },
  {
   "cell_type": "markdown",
   "id": "5dcfb153",
   "metadata": {},
   "source": [
    "# Code\n",
    "Below you can find the code that I used as well as its output:"
   ]
  },
  {
   "cell_type": "code",
   "execution_count": 1,
   "id": "eb103626",
   "metadata": {},
   "outputs": [
    {
     "name": "stdout",
     "output_type": "stream",
     "text": [
      "                            OLS Regression Results                            \n",
      "==============================================================================\n",
      "Dep. Variable:            INCOMERANGE   R-squared:                       0.000\n",
      "Model:                            OLS   Adj. R-squared:                 -0.000\n",
      "Method:                 Least Squares   F-statistic:                    0.3300\n",
      "Date:                Fri, 10 Nov 2023   Prob (F-statistic):              0.566\n",
      "Time:                        19:54:15   Log-Likelihood:                -36390.\n",
      "No. Observations:                3510   AIC:                         7.278e+04\n",
      "Df Residuals:                    3508   BIC:                         7.280e+04\n",
      "Df Model:                           1                                         \n",
      "Covariance Type:            nonrobust                                         \n",
      "==========================================================================================\n",
      "                             coef    std err          t      P>|t|      [0.025      0.975]\n",
      "------------------------------------------------------------------------------------------\n",
      "Intercept               1.196e+04    138.331     86.473      0.000    1.17e+04    1.22e+04\n",
      "C(DMAJORDEPSNI12)[T.1]  -231.6581    403.272     -0.574      0.566   -1022.330     559.014\n",
      "==============================================================================\n",
      "Omnibus:                      905.071   Durbin-Watson:                   1.954\n",
      "Prob(Omnibus):                  0.000   Jarque-Bera (JB):              189.622\n",
      "Skew:                           0.256   Prob(JB):                     6.67e-42\n",
      "Kurtosis:                       1.982   Cond. No.                         3.15\n",
      "==============================================================================\n",
      "\n",
      "Notes:\n",
      "[1] Standard Errors assume that the covariance matrix of the errors is correctly specified.\n",
      "Means for INCOMERANGE by Major Depression status\n",
      "                 INCOMERANGE\n",
      "DMAJORDEPSNI12              \n",
      "0               11961.972877\n",
      "1               11730.314770\n",
      "Standard Deviations for INCOMERANGE by Major Depression status\n",
      "                INCOMERANGE\n",
      "DMAJORDEPSNI12             \n",
      "0               7712.051928\n",
      "1               7593.493772\n"
     ]
    }
   ],
   "source": [
    "import numpy as np\n",
    "import pandas as pd\n",
    "import statsmodels.formula.api as smf\n",
    "import statsmodels.stats.multicomp as multi\n",
    "\n",
    "data=pd.read_csv(\"nesarc.csv\",low_memory=False)\n",
    "\n",
    "#Data for Total Personal Income in the last 12 months (Ages 20-25) (Income between 0=25000$)\n",
    "A1 = data[(data['AGE'] >= 20) & (data['AGE'] <= 25) & (data['S1Q10B'] >= 0) & (data['S1Q10B'] <= 7)]\n",
    "B1 = A1.copy()\n",
    "\n",
    "\n",
    "recode= {0:0,1:4999,2:7999,3:9999,4:12999,5:14999,6:19999,7:24999}\n",
    "B1['INCOMERANGE']=B1['S1Q10B'].map(recode)\n",
    "d1=B1['INCOMERANGE'].value_counts(sort=False)\n",
    "\n",
    "#CONVERT TO NUMERIC\n",
    "B1['INCOMERANGE']=B1['INCOMERANGE'].apply(pd.to_numeric, errors='coerce')\n",
    "\n",
    "# using ols function for calculating the F-statistic and associated p value\n",
    "model1 = smf.ols(formula='INCOMERANGE ~ C(DMAJORDEPSNI12)', data=B1)\n",
    "results1 = model1.fit()\n",
    "print (results1.summary())\n",
    "\n",
    "B2 = B1[['INCOMERANGE', 'DMAJORDEPSNI12']].dropna()\n",
    "\n",
    "print ('Means for INCOMERANGE by Major Depression status')\n",
    "m1= B2.groupby('DMAJORDEPSNI12').mean()\n",
    "print (m1)\n",
    "\n",
    "print ('Standard Deviations for INCOMERANGE by Major Depression status')\n",
    "sd1 = B2.groupby('DMAJORDEPSNI12').std()\n",
    "print (sd1)"
   ]
  },
  {
   "cell_type": "markdown",
   "id": "d70681ce",
   "metadata": {},
   "source": [
    "# Examining the results"
   ]
  },
  {
   "cell_type": "markdown",
   "id": "12ed85dd",
   "metadata": {},
   "source": [
    "When examining the association between low income young adults (quantitative response) and major depression in the last 12 months between young adults (categorical explanatory), an Analysis of Variance (ANOVA) revealed that among low income young adults (my sample), those young adults who said Yes, they are experiencing major depression reported lesser income (Mean=11730.31, s.d. ±7593.49) compared to those people who don’t experience major depression (Mean=11961.97, s.d. ±7712.05).\n",
    "\n",
    "My F-statistic is 0.33 and my P-value is 0.566 which is much higher than our alpha therefore, meaning that **we cannot reject** the null Hypothesis (Ho), meaning that there is **no association** between low income young adults and major depression.\n",
    "\n",
    "Thank you very much for your time!!"
   ]
  }
 ],
 "metadata": {
  "kernelspec": {
   "display_name": "Python 3 (ipykernel)",
   "language": "python",
   "name": "python3"
  },
  "language_info": {
   "codemirror_mode": {
    "name": "ipython",
    "version": 3
   },
   "file_extension": ".py",
   "mimetype": "text/x-python",
   "name": "python",
   "nbconvert_exporter": "python",
   "pygments_lexer": "ipython3",
   "version": "3.8.12"
  }
 },
 "nbformat": 4,
 "nbformat_minor": 5
}
